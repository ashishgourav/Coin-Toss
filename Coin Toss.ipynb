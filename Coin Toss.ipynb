{
 "cells": [
  {
   "cell_type": "code",
   "execution_count": 1,
   "metadata": {},
   "outputs": [],
   "source": [
    "def CoinToss(iteration):\n",
    "    import random\n",
    "    Coin = ['H','T']\n",
    "    Toss = []\n",
    "    Head = 0\n",
    "    Probability = 0\n",
    "    for i in range(iteration):\n",
    "        Toss.append(random.choice(Coin))\n",
    "    \n",
    "    for i in Toss:\n",
    "        if i == 'H':\n",
    "            Head += 1\n",
    "     \n",
    "    Probability += Head/iteration\n",
    "    return(Probability)"
   ]
  },
  {
   "cell_type": "code",
   "execution_count": 39,
   "metadata": {},
   "outputs": [
    {
     "name": "stdout",
     "output_type": "stream",
     "text": [
      "0.49996\n"
     ]
    }
   ],
   "source": [
    "experiment = 1000\n",
    "AvgProbability = 0\n",
    "for i in range(experiment):\n",
    "    AvgProbability += CoinToss(experiment)\n",
    "AvgProbability /= experiment\n",
    "print(AvgProbability)"
   ]
  },
  {
   "cell_type": "code",
   "execution_count": null,
   "metadata": {},
   "outputs": [],
   "source": []
  },
  {
   "cell_type": "code",
   "execution_count": null,
   "metadata": {},
   "outputs": [],
   "source": []
  }
 ],
 "metadata": {
  "kernelspec": {
   "display_name": "Python 3",
   "language": "python",
   "name": "python3"
  },
  "language_info": {
   "codemirror_mode": {
    "name": "ipython",
    "version": 3
   },
   "file_extension": ".py",
   "mimetype": "text/x-python",
   "name": "python",
   "nbconvert_exporter": "python",
   "pygments_lexer": "ipython3",
   "version": "3.7.4"
  }
 },
 "nbformat": 4,
 "nbformat_minor": 2
}
